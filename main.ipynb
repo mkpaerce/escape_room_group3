{
 "cells": [
  {
   "cell_type": "code",
   "execution_count": null,
   "id": "a1a2f30f",
   "metadata": {},
   "outputs": [
    {
     "name": "stdout",
     "output_type": "stream",
     "text": [
      "You wake up on an unfamiliar couch in an eerie room without windows.\n",
      "You feel uneasy. You need to escape from this place!\n",
      "\n"
     ]
    },
    {
     "name": "stdin",
     "output_type": "stream",
     "text": [
      "Do you want to explore the room you're in? (y/n):  y\n"
     ]
    },
    {
     "name": "stdout",
     "output_type": "stream",
     "text": [
      "\n",
      "An eerie room with a Piano, Couch and a Locked Door with a ghost on it.\n",
      "You can explore the following objects in Game Room:\n",
      "Ghost door\n",
      "Piano\n",
      "Couch\n"
     ]
    },
    {
     "name": "stdin",
     "output_type": "stream",
     "text": [
      "\n",
      "What would you like to examine?:  Couch\n"
     ]
    },
    {
     "name": "stdout",
     "output_type": "stream",
     "text": [
      "\n",
      "You examine the couch. It's just an ordinary piece of furniture. Nothing useful here.\n",
      "\n",
      "An eerie room with a Piano, Couch and a Locked Door with a ghost on it.\n",
      "You can explore the following objects in Game Room:\n",
      "Ghost door\n",
      "Piano\n",
      "Couch\n"
     ]
    },
    {
     "name": "stdin",
     "output_type": "stream",
     "text": [
      "\n",
      "What would you like to examine?:  Piano\n"
     ]
    },
    {
     "name": "stdout",
     "output_type": "stream",
     "text": [
      "\n",
      "You examine the piano and find a Ghost Key hidden under it.\n",
      "The Ghost Key has been added to your wallet.\n",
      "\n",
      "An eerie room with a Piano, Couch and a Locked Door with a ghost on it.\n",
      "You can explore the following objects in Game Room:\n",
      "Ghost door\n",
      "Piano\n",
      "Couch\n"
     ]
    },
    {
     "name": "stdin",
     "output_type": "stream",
     "text": [
      "\n",
      "What would you like to examine?:  Ghost door\n"
     ]
    },
    {
     "name": "stdout",
     "output_type": "stream",
     "text": [
      "\n",
      "The Ghost Key is in your wallet. Do you want to use it to unlock the Ghost Door? (y/n)\n"
     ]
    },
    {
     "name": "stdin",
     "output_type": "stream",
     "text": [
      " y\n"
     ]
    },
    {
     "name": "stdout",
     "output_type": "stream",
     "text": [
      "\n",
      "You use the Ghost Key to unlock Ghost Door.\n",
      "\n",
      "The Ghost Door is now unlocked. You step into Master Bedroom.\n",
      "\n",
      "A dark and dusty master bedroom with various doors.\n",
      "You can explore the following objects in Master Bedroom:\n",
      "Spider door\n",
      "Skull door\n",
      "Ghost door\n",
      "Queen bed\n"
     ]
    },
    {
     "name": "stdin",
     "output_type": "stream",
     "text": [
      "\n",
      "What would you like to examine?:  Queen bed\n"
     ]
    },
    {
     "name": "stdout",
     "output_type": "stream",
     "text": [
      "\n",
      "You examine the Queen Bed and find a Spider Key hidden under it.\n",
      "The Spider Key has been added to your wallet.\n",
      "\n",
      "A dark and dusty master bedroom with various doors.\n",
      "You can explore the following objects in Master Bedroom:\n",
      "Spider door\n",
      "Skull door\n",
      "Ghost door\n",
      "Queen bed\n"
     ]
    },
    {
     "name": "stdin",
     "output_type": "stream",
     "text": [
      "\n",
      "What would you like to examine?:  Spider door\n"
     ]
    },
    {
     "name": "stdout",
     "output_type": "stream",
     "text": [
      "\n",
      "The Spider Key is in your wallet. Do you want to use it to unlock the Spider Door? (y/n)\n"
     ]
    },
    {
     "name": "stdin",
     "output_type": "stream",
     "text": [
      " y\n"
     ]
    },
    {
     "name": "stdout",
     "output_type": "stream",
     "text": [
      "\n",
      "You use the Spider Key to unlock Spider Door.\n",
      "\n",
      "The Spider Door is now unlocked. You step into Kids Room.\n",
      "\n",
      "A small creepy bedroom with only one door.\n",
      "You can explore the following objects in Kids Room:\n",
      "Spider door\n",
      "Double bed\n",
      "Dresser\n"
     ]
    },
    {
     "name": "stdin",
     "output_type": "stream",
     "text": [
      "\n",
      "What would you like to examine?:  Double bed\n"
     ]
    },
    {
     "name": "stdout",
     "output_type": "stream",
     "text": [
      "\n",
      "You examine the Double Bed and find a Skull Key hidden under it.\n",
      "The Skull Key has been added to your wallet.\n",
      "\n",
      "A small creepy bedroom with only one door.\n",
      "You can explore the following objects in Kids Room:\n",
      "Spider door\n",
      "Double bed\n",
      "Dresser\n"
     ]
    },
    {
     "name": "stdin",
     "output_type": "stream",
     "text": [
      "\n",
      "What would you like to examine?:  Dresser\n"
     ]
    },
    {
     "name": "stdout",
     "output_type": "stream",
     "text": [
      "\n",
      "You examine the Dresser and find a Pumpkin Key hidden under it.\n",
      "The Pumpkin Key has been added to your wallet.\n",
      "\n",
      "A small creepy bedroom with only one door.\n",
      "You can explore the following objects in Kids Room:\n",
      "Spider door\n",
      "Double bed\n",
      "Dresser\n"
     ]
    },
    {
     "name": "stdin",
     "output_type": "stream",
     "text": [
      "\n",
      "What would you like to examine?:  Spider door\n"
     ]
    },
    {
     "name": "stdout",
     "output_type": "stream",
     "text": [
      "\n",
      "The Spider Door is already unlocked.\n",
      "\n",
      "A dark and dusty master bedroom with various doors.\n",
      "You can explore the following objects in Master Bedroom:\n",
      "Spider door\n",
      "Skull door\n",
      "Ghost door\n",
      "Queen bed\n"
     ]
    },
    {
     "name": "stdin",
     "output_type": "stream",
     "text": [
      "\n",
      "What would you like to examine?:  Skull\n"
     ]
    },
    {
     "name": "stdout",
     "output_type": "stream",
     "text": [
      "\n",
      "Invalid choice. Please type a valid object.\n",
      "\n",
      "A dark and dusty master bedroom with various doors.\n",
      "You can explore the following objects in Master Bedroom:\n",
      "Spider door\n",
      "Skull door\n",
      "Ghost door\n",
      "Queen bed\n"
     ]
    },
    {
     "name": "stdin",
     "output_type": "stream",
     "text": [
      "\n",
      "What would you like to examine?:  Skull door\n"
     ]
    },
    {
     "name": "stdout",
     "output_type": "stream",
     "text": [
      "\n",
      "The Skull Key is in your wallet. Do you want to use it to unlock the Skull Door? (y/n)\n"
     ]
    }
   ],
   "source": [
    "from escaperoom_functions import game_start\n",
    "\n",
    "# Start the game\n",
    "game_start()"
   ]
  },
  {
   "cell_type": "code",
   "execution_count": null,
   "id": "d62d1129-ca60-469b-ba72-14cd276bf847",
   "metadata": {},
   "outputs": [],
   "source": []
  }
 ],
 "metadata": {
  "kernelspec": {
   "display_name": "Python [conda env:base] *",
   "language": "python",
   "name": "conda-base-py"
  },
  "language_info": {
   "codemirror_mode": {
    "name": "ipython",
    "version": 3
   },
   "file_extension": ".py",
   "mimetype": "text/x-python",
   "name": "python",
   "nbconvert_exporter": "python",
   "pygments_lexer": "ipython3",
   "version": "3.12.7"
  }
 },
 "nbformat": 4,
 "nbformat_minor": 5
}
