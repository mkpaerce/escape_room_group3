{
 "cells": [
  {
   "cell_type": "code",
   "execution_count": null,
   "id": "a1a2f30f",
   "metadata": {},
   "outputs": [],
   "source": [
    "from escaperoom_functions import game_start\n",
    "\n",
    "# Start the game and input corresponding answers\n",
    "game_start()"
   ]
  },
  {
   "cell_type": "code",
   "execution_count": null,
   "id": "d62d1129-ca60-469b-ba72-14cd276bf847",
   "metadata": {},
   "outputs": [],
   "source": []
  }
 ],
 "metadata": {
  "kernelspec": {
   "display_name": "Python 3 (ipykernel)",
   "language": "python",
   "name": "python3"
  },
  "language_info": {
   "codemirror_mode": {
    "name": "ipython",
    "version": 3
   },
   "file_extension": ".py",
   "mimetype": "text/x-python",
   "name": "python",
   "nbconvert_exporter": "python",
   "pygments_lexer": "ipython3",
   "version": "3.9.13"
  }
 },
 "nbformat": 4,
 "nbformat_minor": 5
}
